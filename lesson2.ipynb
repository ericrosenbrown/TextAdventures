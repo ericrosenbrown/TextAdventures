{
 "cells": [
  {
   "cell_type": "markdown",
   "metadata": {},
   "source": [
    "# TEXT ADVENTURES!"
   ]
  },
  {
   "cell_type": "markdown",
   "metadata": {},
   "source": [
    "<img src=\"./top.gif\">"
   ]
  },
  {
   "cell_type": "markdown",
   "metadata": {},
   "source": [
    "BEFORE YOU START: OPEN UP ANY TEXT-EDITOR OF YOUR CHOICE (MICROSOFT WORD, NOTEPAD, ECT.) ON YOUR COMPUTER. ANYTIME A QUESTION IS ASKED, WRITE DOWN YOUR ANWER IN THE TEXT EDITOR. WHEN YOU ARE DONE, EMAIL YOUR ANSWERS TO eric_rosen@brown.edu"
   ]
  },
  {
   "cell_type": "markdown",
   "metadata": {},
   "source": [
    "Today we will be making our own text adventure! According to Wikipedia, Text Adventures (Or Interactive Fictions) is software simulating environments in which players use text commands to control characters and influence the environment."
   ]
  },
  {
   "cell_type": "markdown",
   "metadata": {},
   "source": [
    "Text Adventures are very similiar to make-your-own-adventure books you may have read before. Essentially, you read a paragraph that describes you current situation, and then you decide which page to jump to based on what decision you want to make.  When you turn to the next page, you repeat the process! For example, below is a page from a make-your-own-adventure book. Read the following paragraph, and then make a decision about which page you would turn to."
   ]
  },
  {
   "cell_type": "markdown",
   "metadata": {},
   "source": [
    "<img src=\"./example.png\">"
   ]
  },
  {
   "cell_type": "markdown",
   "metadata": {},
   "source": [
    "__QUESTION 1__\n",
    "Which page would you turn to?"
   ]
  },
  {
   "cell_type": "markdown",
   "metadata": {},
   "source": [
    "__QUESTION 2__\n",
    "What motivated you to choose that page?"
   ]
  },
  {
   "cell_type": "markdown",
   "metadata": {},
   "source": [
    "As you can see, the main idea behind text adventures is to read a paragraph, and then make a decision about what to do based on that! However, making a book can be tedious, because if we want to make changes to our story, we have to reprint the entire book! Is there a way to make our own text-adventures using programming? "
   ]
  },
  {
   "cell_type": "markdown",
   "metadata": {},
   "source": [
    "Before we can start programming our text adventure, we need to make a story first! To make a story, we need to decide on what pages we want, and what the situation will be on the page, and how the pages will connect together. For example, below is a sample text adventure story I've made. Each box represents a page/situation, and lines between boxes represent actions that you can take to go between pages. The story starts at the top, in 'You are in a hallway with a left and right door'. Read the following diagram, and then answer the following questions about it. If you have any questions about interpreting the diagram, please raise your hand!"
   ]
  },
  {
   "cell_type": "markdown",
   "metadata": {},
   "source": [
    "<img src=\"./Picture1.png\">"
   ]
  },
  {
   "cell_type": "markdown",
   "metadata": {},
   "source": [
    "__QUESTION 3__\n",
    "If you are at the start, and take the action \"Right\", what room do you end up in?"
   ]
  },
  {
   "cell_type": "markdown",
   "metadata": {},
   "source": [
    "__QUESTION 4__\n",
    "If you are at the start, and take the action \"Left\", and then take the \"Turn back\" action, which room do you end up in?"
   ]
  },
  {
   "cell_type": "markdown",
   "metadata": {},
   "source": [
    "__QUESTION 4__\n",
    "If you are at the start, and take the \"Left\" action, and then take the \"Swim Across\" action, you end up in a room with no description and 2 possible actions. Can you write in a possible description, and two possible actions?"
   ]
  },
  {
   "cell_type": "markdown",
   "metadata": {},
   "source": [
    "Pretty simple adventure, right? Now, below I've coded up this text adventure game, so you can run the code below (by clicking on the code clock and hitting shift+enter) and try it out yourself! (Don't worry about the code for now, we'll learn about it as we go along!). When you get to the end of the text adventure and want to repeat it, you can just rerun the code block by hitting shift+enter again!"
   ]
  },
  {
   "cell_type": "code",
   "execution_count": 62,
   "metadata": {},
   "outputs": [
    {
     "ename": "KeyboardInterrupt",
     "evalue": "",
     "output_type": "error",
     "traceback": [
      "\u001b[0;31m\u001b[0m",
      "\u001b[0;31mKeyboardInterrupt\u001b[0mTraceback (most recent call last)",
      "\u001b[0;32m<ipython-input-62-a0f175df184a>\u001b[0m in \u001b[0;36m<module>\u001b[0;34m()\u001b[0m\n\u001b[1;32m     40\u001b[0m     \u001b[0;32mprint\u001b[0m \u001b[0;34m\"...\"\u001b[0m\u001b[0;34m\u001b[0m\u001b[0m\n\u001b[1;32m     41\u001b[0m \u001b[0;34m\u001b[0m\u001b[0m\n\u001b[0;32m---> 42\u001b[0;31m \u001b[0mstart_game\u001b[0m\u001b[0;34m(\u001b[0m\u001b[0;34m)\u001b[0m\u001b[0;34m\u001b[0m\u001b[0m\n\u001b[0m",
      "\u001b[0;32m<ipython-input-62-a0f175df184a>\u001b[0m in \u001b[0;36mstart_game\u001b[0;34m()\u001b[0m\n\u001b[1;32m      1\u001b[0m \u001b[0;32mdef\u001b[0m \u001b[0mstart_game\u001b[0m\u001b[0;34m(\u001b[0m\u001b[0;34m)\u001b[0m\u001b[0;34m:\u001b[0m\u001b[0;34m\u001b[0m\u001b[0m\n\u001b[0;32m----> 2\u001b[0;31m     \u001b[0mchoice\u001b[0m \u001b[0;34m=\u001b[0m \u001b[0mraw_input\u001b[0m\u001b[0;34m(\u001b[0m\u001b[0;34m\"You are in a hallway with a left and right door. Which door do you choose?\"\u001b[0m\u001b[0;34m)\u001b[0m\u001b[0;34m\u001b[0m\u001b[0m\n\u001b[0m\u001b[1;32m      3\u001b[0m     \u001b[0;32mif\u001b[0m \u001b[0mchoice\u001b[0m \u001b[0;34m==\u001b[0m \u001b[0;34m\"left\"\u001b[0m\u001b[0;34m:\u001b[0m\u001b[0;34m\u001b[0m\u001b[0m\n\u001b[1;32m      4\u001b[0m         \u001b[0mopen_left_door\u001b[0m\u001b[0;34m(\u001b[0m\u001b[0;34m)\u001b[0m\u001b[0;34m\u001b[0m\u001b[0m\n\u001b[1;32m      5\u001b[0m     \u001b[0;32melif\u001b[0m \u001b[0mchoice\u001b[0m \u001b[0;34m==\u001b[0m \u001b[0;34m\"right\"\u001b[0m\u001b[0;34m:\u001b[0m\u001b[0;34m\u001b[0m\u001b[0m\n",
      "\u001b[0;32m/srv/venv2/local/lib/python2.7/site-packages/ipykernel/kernelbase.pyc\u001b[0m in \u001b[0;36mraw_input\u001b[0;34m(self, prompt)\u001b[0m\n\u001b[1;32m    702\u001b[0m             \u001b[0mself\u001b[0m\u001b[0;34m.\u001b[0m\u001b[0m_parent_ident\u001b[0m\u001b[0;34m,\u001b[0m\u001b[0;34m\u001b[0m\u001b[0m\n\u001b[1;32m    703\u001b[0m             \u001b[0mself\u001b[0m\u001b[0;34m.\u001b[0m\u001b[0m_parent_header\u001b[0m\u001b[0;34m,\u001b[0m\u001b[0;34m\u001b[0m\u001b[0m\n\u001b[0;32m--> 704\u001b[0;31m             \u001b[0mpassword\u001b[0m\u001b[0;34m=\u001b[0m\u001b[0mFalse\u001b[0m\u001b[0;34m,\u001b[0m\u001b[0;34m\u001b[0m\u001b[0m\n\u001b[0m\u001b[1;32m    705\u001b[0m         )\n\u001b[1;32m    706\u001b[0m \u001b[0;34m\u001b[0m\u001b[0m\n",
      "\u001b[0;32m/srv/venv2/local/lib/python2.7/site-packages/ipykernel/kernelbase.pyc\u001b[0m in \u001b[0;36m_input_request\u001b[0;34m(self, prompt, ident, parent, password)\u001b[0m\n\u001b[1;32m    732\u001b[0m             \u001b[0;32mexcept\u001b[0m \u001b[0mKeyboardInterrupt\u001b[0m\u001b[0;34m:\u001b[0m\u001b[0;34m\u001b[0m\u001b[0m\n\u001b[1;32m    733\u001b[0m                 \u001b[0;31m# re-raise KeyboardInterrupt, to truncate traceback\u001b[0m\u001b[0;34m\u001b[0m\u001b[0;34m\u001b[0m\u001b[0m\n\u001b[0;32m--> 734\u001b[0;31m                 \u001b[0;32mraise\u001b[0m \u001b[0mKeyboardInterrupt\u001b[0m\u001b[0;34m\u001b[0m\u001b[0m\n\u001b[0m\u001b[1;32m    735\u001b[0m             \u001b[0;32melse\u001b[0m\u001b[0;34m:\u001b[0m\u001b[0;34m\u001b[0m\u001b[0m\n\u001b[1;32m    736\u001b[0m                 \u001b[0;32mbreak\u001b[0m\u001b[0;34m\u001b[0m\u001b[0m\n",
      "\u001b[0;31mKeyboardInterrupt\u001b[0m: "
     ]
    }
   ],
   "source": [
    "def start_game():\n",
    "    choice = raw_input(\"You are in a hallway with a left and right door. Which door do you choose?\")\n",
    "    if choice == \"left\":\n",
    "        open_left_door()\n",
    "    elif choice == \"right\":\n",
    "        open_right_door()\n",
    "    else:\n",
    "        start_game()\n",
    "\n",
    "def open_left_door():\n",
    "    choice = raw_input(\"You enter the left door, leading to a room full of water. There is a door on the otherside. What do you do?\")\n",
    "    if choice == \"turn\":\n",
    "        start_game()\n",
    "    elif choice == \"swim\":\n",
    "        swim_across()\n",
    "    else:\n",
    "        open_left_door()\n",
    "\n",
    "def open_right_door():\n",
    "    choice= raw_input(\"You enter the right door, and find three boxes, each labeled 1,2,3. Which box do you open?\")\n",
    "    if choice == \"1\":\n",
    "        open_1()\n",
    "    elif choice == \"2\":\n",
    "        open_2()\n",
    "    elif choice == \"3\":\n",
    "        open_3()\n",
    "    else:\n",
    "        open_right_door()\n",
    "\n",
    "def swim_across():\n",
    "    print \"...\"\n",
    "\n",
    "def open_1():\n",
    "    print \"...\"\n",
    "\n",
    "def open_2():\n",
    "    print \"...\"\n",
    "\n",
    "def open_3():\n",
    "    print \"...\"\n",
    "\n",
    "start_game()"
   ]
  },
  {
   "cell_type": "markdown",
   "metadata": {},
   "source": [
    "__QUESTION 5__\n",
    "What happens if you put in the action \"eat food\"?"
   ]
  },
  {
   "cell_type": "markdown",
   "metadata": {},
   "source": [
    "__QUESTION 6__\n",
    "What happens if do the the \"left\" action, and then the \"swim\" action?"
   ]
  },
  {
   "cell_type": "markdown",
   "metadata": {},
   "source": [
    "The story isn't very complicated, but let's see if we can program it! In order to program our game, we need a way to make each of the pages, and then connect them together. We will use a general format to program each of our pages. Below is the tempalte you can copy to make each of your pages, along with an explanation of what the template is doing. This template lets you make pages with only two possible actions, but we will later on look at examples with more actions."
   ]
  },
  {
   "cell_type": "code",
   "execution_count": 52,
   "metadata": {},
   "outputs": [],
   "source": [
    "def name_of_page():\n",
    "    choice = raw_input(\"PAGE DESCRIPTION\")\n",
    "    if choice == \"ACTION1\":\n",
    "        name_of_page1()\n",
    "    elif choice == \"ACTION2\":\n",
    "        name_of_page2()\n",
    "    else:\n",
    "        name_of_page()"
   ]
  },
  {
   "cell_type": "markdown",
   "metadata": {},
   "source": [
    "Let's break this down line by line. In the first line,we have"
   ]
  },
  {
   "cell_type": "code",
   "execution_count": null,
   "metadata": {},
   "outputs": [],
   "source": [
    "def name_of_page():"
   ]
  },
  {
   "cell_type": "markdown",
   "metadata": {},
   "source": [
    "The first line lets us define (def) the name of the page we are currently making. In programming, this is called a function (kind of like a math one!). Any other code we want to include in this page/function, we will use indents to indicate it's part of this page/function. We will use the name of this functon anytime want to be able to jump back to the page. For example, I might make my first page called start_game, like the following:"
   ]
  },
  {
   "cell_type": "code",
   "execution_count": null,
   "metadata": {},
   "outputs": [],
   "source": [
    "def start_game():"
   ]
  },
  {
   "cell_type": "markdown",
   "metadata": {},
   "source": [
    "Now that we've given our page a name, let's look at line 2"
   ]
  },
  {
   "cell_type": "code",
   "execution_count": 55,
   "metadata": {},
   "outputs": [
    {
     "name": "stdout",
     "output_type": "stream",
     "text": [
      "PAGE DESCRIPTION\n"
     ]
    }
   ],
   "source": [
    "    choice = raw_input(\"PAGE DESCRIPTION\")"
   ]
  },
  {
   "cell_type": "markdown",
   "metadata": {},
   "source": [
    "In this piece of code, we are using the built-in raw_input functon that Python has. What raw_input let's use do is print out text to the screen, read in text-input from the keyboard, and save the response in a variable (in this case, the variable is called choice). for example, if I want to make a python program that lets me ask for a users age to determine if they can enter a club or not, I could make the folllowing program! (Click on the code block below and hit shift-enter)\n"
   ]
  },
  {
   "cell_type": "code",
   "execution_count": null,
   "metadata": {},
   "outputs": [],
   "source": [
    "age = int(raw_input(\"what is your age?\"))\n",
    "if age <= 21:\n",
    "    print \"Sorry, you can't enter the club\"\n",
    "else:\n",
    "    print \"Come on in!\"\n",
    "        "
   ]
  },
  {
   "cell_type": "markdown",
   "metadata": {},
   "source": [
    "Question: What happesn if you type 5"
   ]
  },
  {
   "cell_type": "markdown",
   "metadata": {},
   "source": [
    "Question: What happens if you type 28?"
   ]
  },
  {
   "cell_type": "markdown",
   "metadata": {},
   "source": [
    "Question: How would you make it so that the age restriction is 18 instead of 21? Copy the code above, paste it into the code block below, and change the necessary pieces to make it only let 18 and higher in!"
   ]
  },
  {
   "cell_type": "code",
   "execution_count": null,
   "metadata": {},
   "outputs": [],
   "source": [
    "CODE GOES HERE"
   ]
  },
  {
   "cell_type": "markdown",
   "metadata": {},
   "source": [
    "Question: How would you make it so that if you are old enough to come in, it says 'Welcome to the club!' instead of 'Come on in!'. Copy the code above, and make the necessary changes"
   ]
  },
  {
   "cell_type": "code",
   "execution_count": null,
   "metadata": {},
   "outputs": [],
   "source": [
    "CODE GOES HERE"
   ]
  }
 ],
 "metadata": {
  "kernelspec": {
   "display_name": "Python 2",
   "language": "python",
   "name": "python2"
  },
  "language_info": {
   "codemirror_mode": {
    "name": "ipython",
    "version": 2
   },
   "file_extension": ".py",
   "mimetype": "text/x-python",
   "name": "python",
   "nbconvert_exporter": "python",
   "pygments_lexer": "ipython2",
   "version": "2.7.14"
  }
 },
 "nbformat": 4,
 "nbformat_minor": 2
}
