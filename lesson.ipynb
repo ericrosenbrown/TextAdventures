{
 "cells": [
  {
   "cell_type": "markdown",
   "metadata": {},
   "source": [
    "# TEXT ADVENTURES!"
   ]
  },
  {
   "cell_type": "markdown",
   "metadata": {},
   "source": [
    "<img src=\"./top.gif\">"
   ]
  },
  {
   "cell_type": "code",
   "execution_count": null,
   "metadata": {},
   "outputs": [],
   "source": [
    "from ipywidgets import interact, interactive, fixed, interact_manual\n",
    "import ipywidgets as widgets\n",
    "\n",
    "def q(x):\n",
    "    if x == 'Write your answer here' or x=='Write your first action here' or x=='Write your second action here' or x=='Write your description here':\n",
    "        return 'You still need an answer!'\n",
    "    return 'Nice answer!'"
   ]
  },
  {
   "cell_type": "markdown",
   "metadata": {},
   "source": [
    "Today we will be making our own text adventure! According to Wikipedia, Text Adventures (Or Interactive Fictions) is software simulating environments in which players use text commands to control characters and influence the environment."
   ]
  },
  {
   "cell_type": "markdown",
   "metadata": {},
   "source": [
    "Text Adventures are very similiar to make-your-own-adventure books you may have read before. Essentially, you read a paragraph that describes you current situation, and then you decide which page to jump to based on what decision you want to make.  When you turn to the next page, you repeat the process! For example, below is a page from a make-your-own-adventure book. Read the following paragraph, and then make a decision about which page you would turn to."
   ]
  },
  {
   "cell_type": "markdown",
   "metadata": {},
   "source": [
    "<img src=\"./example.png\">"
   ]
  },
  {
   "cell_type": "markdown",
   "metadata": {},
   "source": [
    "__QUESTION 1__\n",
    "Which page would you turn to?"
   ]
  },
  {
   "cell_type": "code",
   "execution_count": null,
   "metadata": {},
   "outputs": [],
   "source": [
    "interact(q, x='Write your answer here');"
   ]
  },
  {
   "cell_type": "markdown",
   "metadata": {},
   "source": [
    "__QUESTION 2__\n",
    "What motivated you to choose that page?"
   ]
  },
  {
   "cell_type": "code",
   "execution_count": null,
   "metadata": {},
   "outputs": [],
   "source": [
    "interact(q, x='Write your answer here');"
   ]
  },
  {
   "cell_type": "markdown",
   "metadata": {},
   "source": [
    "As you can see, the main idea behind text adventures is to read a paragraph, and then make a decision about what to do based on that! However, making a book can be tedious, because if we want to make changes to our story, we have to reprint the entire book! Is there a way to make our own text-adventures using programming? "
   ]
  },
  {
   "cell_type": "markdown",
   "metadata": {},
   "source": [
    "Before we can start programming our text adventure, we need to make a story first! To make a story, we need to decide on what pages we want, and what the situation will be on the page, and how the pages will connect together. For example, below is a sample text adventure story I've made. Each box represents a page/situation, and lines between boxes represent actions that you can take to go between pages. The story starts at the top, in 'You are in a hallway with a left and right door'. Read the following diagram, and then answer the following questions about it. If you have any questions about interpreting the diagram, please raise your hand!"
   ]
  },
  {
   "cell_type": "markdown",
   "metadata": {},
   "source": [
    "<img src=\"./Picture1.png\">"
   ]
  },
  {
   "cell_type": "markdown",
   "metadata": {},
   "source": [
    "__QUESTION 3__\n",
    "If you are at the start, and take the action \"Right\", what room do you end up in?"
   ]
  },
  {
   "cell_type": "code",
   "execution_count": null,
   "metadata": {},
   "outputs": [],
   "source": [
    "interact(q, x='Write your answer here');"
   ]
  },
  {
   "cell_type": "markdown",
   "metadata": {},
   "source": [
    "__QUESTION 4__\n",
    "If you are at the start, and take the action \"Left\", and then take the \"Turn back\" action, which room do you end up in?"
   ]
  },
  {
   "cell_type": "code",
   "execution_count": null,
   "metadata": {},
   "outputs": [],
   "source": [
    "interact(q, x='Write your answer here');"
   ]
  },
  {
   "cell_type": "markdown",
   "metadata": {},
   "source": [
    "__QUESTION 4__\n",
    "If you are at the start, and take the \"Left\" action, and then take the \"Swim Across\" action, you end up in a room with no description and 2 possible actions. Can you write in a possible description, and two possible actions?"
   ]
  },
  {
   "cell_type": "code",
   "execution_count": null,
   "metadata": {},
   "outputs": [],
   "source": [
    "interact(q, x='Write your description here');"
   ]
  },
  {
   "cell_type": "code",
   "execution_count": null,
   "metadata": {},
   "outputs": [],
   "source": [
    "interact(q, x='Write your first action here');"
   ]
  },
  {
   "cell_type": "code",
   "execution_count": null,
   "metadata": {},
   "outputs": [],
   "source": [
    "interact(q, x='Write your second action here');"
   ]
  },
  {
   "cell_type": "markdown",
   "metadata": {},
   "source": [
    "Pretty simple adventure, right? Now, below I've coded up this text adventure game, so you can run the code below (by clicking on the code clock and hitting shift+enter) and try it out yourself! (Don't worry about the code for now, we'll learn about it as we go along!). When you get to the end of the text adventure and want to repeat it, you can just rerun the code block by hitting shift+enter again!"
   ]
  },
  {
   "cell_type": "code",
   "execution_count": null,
   "metadata": {},
   "outputs": [],
   "source": [
    "def start_game():\n",
    "    choice = raw_input(\"You are in a hallway with a left and right door. Which door do you choose?\")\n",
    "    if choice == \"left\":\n",
    "        open_left_door()\n",
    "    elif choice == \"right\":\n",
    "        open_right_door()\n",
    "    else:\n",
    "        start_game()\n",
    "\n",
    "def open_left_door():\n",
    "    choice = raw_input(\"You enter the left door, leading to a room full of water. There is a door on the otherside. What do you do?\")\n",
    "    if choice == \"turn\":\n",
    "        start_game()\n",
    "    elif choice == \"swim\":\n",
    "        swim_across()\n",
    "    else:\n",
    "        open_left_door()\n",
    "\n",
    "def open_right_door():\n",
    "    choice= raw_input(\"You enter the right door, and find three boxes, each labeled 1,2,3. Which box do you open?\")\n",
    "    if choice == \"1\":\n",
    "        open_1()\n",
    "    elif choice == \"2\":\n",
    "        open_2()\n",
    "    elif choice == \"3\":\n",
    "        open_3()\n",
    "    else:\n",
    "        open_right_door()\n",
    "\n",
    "def swim_across():\n",
    "    print \"...\"\n",
    "\n",
    "def open_1():\n",
    "    print \"...\"\n",
    "\n",
    "def open_2():\n",
    "    print \"...\"\n",
    "\n",
    "def open_3():\n",
    "    print \"...\"\n",
    "\n",
    "start_game()"
   ]
  },
  {
   "cell_type": "markdown",
   "metadata": {},
   "source": [
    "__QUESTION 5__\n",
    "What happens if you put in the action \"eat food\"?"
   ]
  },
  {
   "cell_type": "code",
   "execution_count": null,
   "metadata": {},
   "outputs": [],
   "source": [
    "interact(q, x='Write your answer here');"
   ]
  },
  {
   "cell_type": "code",
   "execution_count": null,
   "metadata": {},
   "outputs": [],
   "source": [
    "__QUESTION 6__\n",
    "What happens if do the the \"left\" action, and then the \"swim\" action?"
   ]
  },
  {
   "cell_type": "code",
   "execution_count": null,
   "metadata": {},
   "outputs": [],
   "source": [
    "interact(q, x='Write your answer here');"
   ]
  },
  {
   "cell_type": "markdown",
   "metadata": {},
   "source": [
    "The story isn't very complicated, but let's see if we can program it! In order to program our game, we need a way to make each of the pages, and then connect them together. We will use a general format to program each of our pages. Below is the tempalte you can copy to make each of your pages, along with an explanation of what the template is doing. This template lets you make pages with only two possible actions, but we will later on look at examples with more actions."
   ]
  },
  {
   "cell_type": "code",
   "execution_count": null,
   "metadata": {},
   "outputs": [],
   "source": [
    "def name_of_page():\n",
    "    choice = raw_input(\"PAGE DESCRIPTION\")\n",
    "    if choice == \"left\":\n",
    "        open_left_door()\n",
    "    elif choice == \"right\":\n",
    "        open_right_door()\n",
    "    else:\n",
    "        start_game()"
   ]
  }
 ],
 "metadata": {
  "kernelspec": {
   "display_name": "Python 2",
   "language": "python",
   "name": "python2"
  },
  "language_info": {
   "codemirror_mode": {
    "name": "ipython",
    "version": 2
   },
   "file_extension": ".py",
   "mimetype": "text/x-python",
   "name": "python",
   "nbconvert_exporter": "python",
   "pygments_lexer": "ipython2",
   "version": "2.7.14"
  }
 },
 "nbformat": 4,
 "nbformat_minor": 2
}
