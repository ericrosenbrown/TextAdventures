{
 "cells": [
  {
   "cell_type": "markdown",
   "metadata": {},
   "source": [
    "# TEXT ADVENTURES!"
   ]
  },
  {
   "cell_type": "markdown",
   "metadata": {},
   "source": [
    "<img src=\"./top.gif\">"
   ]
  },
  {
   "cell_type": "code",
   "execution_count": null,
   "metadata": {},
   "outputs": [],
   "source": [
    "from ipywidgets import interact, interactive, fixed, interact_manual\n",
    "import ipywidgets as widgets\n",
    "\n",
    "def q(x):\n",
    "    if x == 'Write your answer here':\n",
    "        return 'You still need an answer!'\n",
    "    return 'Nice answer!'"
   ]
  },
  {
   "cell_type": "markdown",
   "metadata": {},
   "source": [
    "Today we will be making our own text adventure! According to Wikipedia, Text Adventures (Or Interactive Fictions) is software simulating environments in which players use text commands to control characters and influence the environment."
   ]
  },
  {
   "cell_type": "markdown",
   "metadata": {},
   "source": [
    "Text Adventures are very similiar to make-your-own-adventure books you may have read before. Essentially, you read a paragraph that describes you current situation, and then you decide which page to jump to based on what decision you want to make.  When you turn to the next page, you repeat the process! For example, below is a page from a make-your-own-adventure book. Read the following paragraph, and then make a decision about which page you would turn to."
   ]
  },
  {
   "cell_type": "markdown",
   "metadata": {},
   "source": [
    "<img src=\"./example.png\">"
   ]
  },
  {
   "cell_type": "markdown",
   "metadata": {},
   "source": [
    "__QUESTION 1__\n",
    "Which page would you turn to?"
   ]
  },
  {
   "cell_type": "code",
   "execution_count": null,
   "metadata": {},
   "outputs": [],
   "source": [
    "interact(q1, x='Write your answer here');"
   ]
  },
  {
   "cell_type": "markdown",
   "metadata": {},
   "source": [
    "__QUESTION 2__\n",
    "What motivated you to choose that page?"
   ]
  },
  {
   "cell_type": "code",
   "execution_count": null,
   "metadata": {},
   "outputs": [],
   "source": [
    "interact(q1, x='Write your answer here');"
   ]
  },
  {
   "cell_type": "markdown",
   "metadata": {},
   "source": [
    "As you can see, the main idea behind text adventures is to read a paragraph, and then make a decision about what to do based on that! However, making a book can be tedious, because if we want to make changes to our story, we have to reprint the entire book! Is there a way to make our own text-adventures using programming? "
   ]
  },
  {
   "cell_type": "markdown",
   "metadata": {},
   "source": [
    "Before we can start programming our text adventure, we need to make a story first! To make a story, we need to decide on what pages we want, and what the situation will be on the page, and how the pages will connect together. For example, below is a sample text adventure story I've made. Each box represents a page/situation, and lines between boxes represent actions that you can take to go between pages. The story starts at the top, in 'You are in a hallway with a left and right door'. Read the following diagram, and then answer the following questions about it. If you have any questions about interpreting the diagram, please raise your hand!"
   ]
  },
  {
   "cell_type": "markdown",
   "metadata": {},
   "source": [
    "<img src=\"./Picture1.png\">"
   ]
  },
  {
   "cell_type": "markdown",
   "metadata": {},
   "source": [
    "__QUESTION 3__\n",
    "If you are at the start, and take the action \"Right\", what room do you end up in?"
   ]
  },
  {
   "cell_type": "code",
   "execution_count": null,
   "metadata": {},
   "outputs": [],
   "source": [
    "interact(q1, x='Write your answer here');"
   ]
  },
  {
   "cell_type": "code",
   "execution_count": null,
   "metadata": {},
   "outputs": [],
   "source": []
  },
  {
   "cell_type": "code",
   "execution_count": null,
   "metadata": {},
   "outputs": [],
   "source": []
  }
 ],
 "metadata": {
  "kernelspec": {
   "display_name": "Python 2",
   "language": "python",
   "name": "python2"
  },
  "language_info": {
   "codemirror_mode": {
    "name": "ipython",
    "version": 2
   },
   "file_extension": ".py",
   "mimetype": "text/x-python",
   "name": "python",
   "nbconvert_exporter": "python",
   "pygments_lexer": "ipython2",
   "version": "2.7.14"
  }
 },
 "nbformat": 4,
 "nbformat_minor": 2
}
