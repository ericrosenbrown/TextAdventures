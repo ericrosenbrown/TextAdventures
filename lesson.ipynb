{
 "cells": [
  {
   "cell_type": "markdown",
   "metadata": {},
   "source": [
    "Today we will be making our own text adventure! According to Wikipedia, Text Adventures (Or Interactive Fictions) is software simulating environments in which players use text commands to control characters and influence the environment."
   ]
  },
  {
   "cell_type": "markdown",
   "metadata": {},
   "source": [
    "Text Adventures are very similiar to make-your-own-adventure books you may have read before. Essentially, you read a paragraph that describes you current situation, and then you decide which page to jump to based on what decision you want to make. For example, below is a page from a make-your-own-adventure book. Read the following paragraph, and then make a decision about which page you would turn to."
   ]
  },
  {
   "cell_type": "markdown",
   "metadata": {},
   "source": [
    "<img src=\"./example.png\">"
   ]
  },
  {
   "cell_type": "markdown",
   "metadata": {},
   "source": [
    "__QUESTION 1__\n",
    "Which page would you turn to? Why did you make that decision?"
   ]
  }
 ],
 "metadata": {
  "kernelspec": {
   "display_name": "Python 2",
   "language": "python",
   "name": "python2"
  },
  "language_info": {
   "codemirror_mode": {
    "name": "ipython",
    "version": 2
   },
   "file_extension": ".py",
   "mimetype": "text/x-python",
   "name": "python",
   "nbconvert_exporter": "python",
   "pygments_lexer": "ipython2",
   "version": "2.7.14"
  }
 },
 "nbformat": 4,
 "nbformat_minor": 2
}
