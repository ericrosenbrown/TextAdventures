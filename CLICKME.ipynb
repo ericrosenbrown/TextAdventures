{
 "cells": [
  {
   "cell_type": "markdown",
   "metadata": {},
   "source": [
    "# TEXT ADVENTURES!"
   ]
  },
  {
   "cell_type": "markdown",
   "metadata": {},
   "source": [
    "<img src=\"./top.gif\">"
   ]
  },
  {
   "cell_type": "markdown",
   "metadata": {},
   "source": [
    "BEFORE YOU START: OPEN UP ANY TEXT-EDITOR OF YOUR CHOICE (MICROSOFT WORD, NOTEPAD, ECT.) ON YOUR COMPUTER. ANYTIME A QUESTION IS ASKED, WRITE DOWN YOUR ANWER IN THE TEXT EDITOR UNLESS THE TUTORIAL TELLS YOU TO WRITE CODE INSIDE THIS WEBSITE (CODE GOES HERE BLOCKS). WHEN YOU ARE DONE, EMAIL YOUR ANSWERS TO YOUR INSTRUCTOR\n",
    "\n",
    "IF THE TUTORIAL TELLS YOU TO RUN A CODE BLOCK AND NOTHING HAPPENS, CLICK ON \"KERNEL\" IN THE TOOLBAR AT THE TOP OF THE SCREEN, AND HIT INTERRUPT, AND RUN THE CODE AGAIN."
   ]
  },
  {
   "cell_type": "markdown",
   "metadata": {},
   "source": [
    "Today we will be making our own text adventure! According to Wikipedia, Text Adventures (Or Interactive Fictions) is software simulating environments in which players use text commands to control characters and influence the environment."
   ]
  },
  {
   "cell_type": "markdown",
   "metadata": {},
   "source": [
    "Text Adventures are very similiar to make-your-own-adventure books you may have read before. Essentially, you read a paragraph that describes your current situation, and then you decide which page to jump to based on what decision you want to make.  When you turn to the next page, you repeat the process! For example, below is a page from a make-your-own-adventure book. Read the following paragraph, and then make a decision about which page you would turn to."
   ]
  },
  {
   "cell_type": "markdown",
   "metadata": {},
   "source": [
    "<img src=\"./example.png\">"
   ]
  },
  {
   "cell_type": "markdown",
   "metadata": {},
   "source": [
    "__QUESTION 1__\n",
    "Which page would you turn to?"
   ]
  },
  {
   "cell_type": "markdown",
   "metadata": {},
   "source": [
    "__QUESTION 2__\n",
    "What motivated you to choose that page?"
   ]
  },
  {
   "cell_type": "markdown",
   "metadata": {},
   "source": [
    "As you can see, the main idea behind text adventures is to read a paragraph, and then make a decision about what to do based on that! However, making a book can be tedious, because if we want to make changes to our story, we have to reprint the entire book! Is there a way to make our own text-adventures using programming and Python? "
   ]
  },
  {
   "cell_type": "markdown",
   "metadata": {},
   "source": [
    "Before we can start programming our text adventure, we need to make a story first! To make a story, we need to decide on what pages we want, and what the situation will be on the page, and how the pages will connect together. For example, below is a sample text adventure story I've made. Each box represents a page/situation, and lines between boxes represent actions that you can take to go between pages. The story starts at the top, in 'You are in a hallway with a left and right door'. Read the following diagram, and then answer the following questions about it. If you have any questions about interpreting the diagram, please raise your hand!"
   ]
  },
  {
   "cell_type": "markdown",
   "metadata": {},
   "source": [
    "<img src=\"./Picture1.png\">"
   ]
  },
  {
   "cell_type": "markdown",
   "metadata": {},
   "source": [
    "__QUESTION 3__\n",
    "If you are at the start, and take the action \"Right\", what room do you end up in?"
   ]
  },
  {
   "cell_type": "markdown",
   "metadata": {},
   "source": [
    "__QUESTION 4__\n",
    "If you are at the start, and take the action \"Left\", and then take the \"Turn back\" action, which room do you end up in?"
   ]
  },
  {
   "cell_type": "markdown",
   "metadata": {},
   "source": [
    "__QUESTION 4__\n",
    "If you are at the start, and take the \"Left\" action, and then take the \"Swim Across\" action, you end up in a room with no description and 2 possible actions. Write in a possible description, and two possible actions."
   ]
  },
  {
   "cell_type": "markdown",
   "metadata": {},
   "source": [
    "Pretty simple adventure, right? Now, below I've coded up this text adventure game, so you can run the code below (by clicking on the code block and hitting shift+enter) and try it out yourself by typing in the text box! (Don't worry about understanding the code for now, we'll learn about it as we go along!). When you get to the end of the text adventure and want to repeat it, you can just rerun the code block by hitting shift+enter again!"
   ]
  },
  {
   "cell_type": "code",
   "execution_count": null,
   "metadata": {},
   "outputs": [],
   "source": [
    "def start_game():\n",
    "    choice = raw_input(\"You are in a hallway with a left and right door. Which door do you choose?\")\n",
    "    if choice == \"left\":\n",
    "        open_left_door()\n",
    "    elif choice == \"right\":\n",
    "        open_right_door()\n",
    "    else:\n",
    "        start_game()\n",
    "\n",
    "def open_left_door():\n",
    "    choice = raw_input(\"You enter the left door, leading to a room full of water. There is a door on the otherside. What do you do?\")\n",
    "    if choice == \"turn\":\n",
    "        start_game()\n",
    "    elif choice == \"swim\":\n",
    "        swim_across()\n",
    "    else:\n",
    "        open_left_door()\n",
    "\n",
    "def open_right_door():\n",
    "    choice= raw_input(\"You enter the right door, and find three boxes, each labeled 1,2,3. Which box do you open?\")\n",
    "    if choice == \"1\":\n",
    "        open_1()\n",
    "    elif choice == \"2\":\n",
    "        open_2()\n",
    "    elif choice == \"3\":\n",
    "        open_3()\n",
    "    else:\n",
    "        open_right_door()\n",
    "\n",
    "def swim_across():\n",
    "    print \"...\"\n",
    "\n",
    "def open_1():\n",
    "    print \"...\"\n",
    "\n",
    "def open_2():\n",
    "    print \"...\"\n",
    "\n",
    "def open_3():\n",
    "    print \"...\"\n",
    "\n",
    "start_game()"
   ]
  },
  {
   "cell_type": "markdown",
   "metadata": {},
   "source": [
    "__QUESTION 5__\n",
    "What happens if you put in the action \"eat food\"?"
   ]
  },
  {
   "cell_type": "markdown",
   "metadata": {},
   "source": [
    "__QUESTION 6__\n",
    "What happens if do the the \"left\" action, and then the \"swim\" action?"
   ]
  },
  {
   "cell_type": "markdown",
   "metadata": {},
   "source": [
    "The story isn't very complicated, but let's see if we can understand how the code works! In order to program our game, we need a way to make each of the pages, and then connect them together. Let's say we want to make the start_game page. "
   ]
  },
  {
   "cell_type": "code",
   "execution_count": null,
   "metadata": {},
   "outputs": [],
   "source": [
    "def start_game():\n",
    "    choice = raw_input(\"You are in a hallway with a left and right door. Which door do you choose?\")\n",
    "    if choice == \"left\":\n",
    "        open_left_door()\n",
    "    elif choice == \"right\":\n",
    "        open_right_door()\n",
    "    else:\n",
    "        start_game()"
   ]
  },
  {
   "cell_type": "markdown",
   "metadata": {},
   "source": [
    "We will use a general format to program each of our pages. Below is the template you can copy to make each of your pages, along with an explanation of what the template is doing. This template lets you make pages with only two possible actions, but we will later on look at examples with more actions."
   ]
  },
  {
   "cell_type": "code",
   "execution_count": null,
   "metadata": {},
   "outputs": [],
   "source": [
    "def name_of_page():\n",
    "    choice = raw_input(\"PAGE DESCRIPTION\")\n",
    "    if choice == \"ACTION1\":\n",
    "        name_of_page1()\n",
    "    elif choice == \"ACTION2\":\n",
    "        name_of_page2()\n",
    "    else:\n",
    "        name_of_page()"
   ]
  },
  {
   "cell_type": "markdown",
   "metadata": {},
   "source": [
    "Let's break this down line by line. In the first line,we have"
   ]
  },
  {
   "cell_type": "code",
   "execution_count": null,
   "metadata": {},
   "outputs": [],
   "source": [
    "def name_of_page():"
   ]
  },
  {
   "cell_type": "markdown",
   "metadata": {},
   "source": [
    "The first line lets us define (def) the name of the page we are currently making. In programming, this is called a function (kind of like a math one!). Any other code we want to include in this page/function, we will use indents to indicate it's part of this page/function. We will use the name of this functon anytime want to be able to jump back to this page. Whenever we want to define a function, we write def, then the name of the function, then (): For example, I might make my first page called start_game, like the following:"
   ]
  },
  {
   "cell_type": "code",
   "execution_count": null,
   "metadata": {},
   "outputs": [],
   "source": [
    "def start_game():"
   ]
  },
  {
   "cell_type": "markdown",
   "metadata": {},
   "source": [
    "Now that we've given our page a name, let's look at line 2"
   ]
  },
  {
   "cell_type": "code",
   "execution_count": null,
   "metadata": {},
   "outputs": [],
   "source": [
    "choice = raw_input(\"PAGE DESCRIPTION\")"
   ]
  },
  {
   "cell_type": "markdown",
   "metadata": {},
   "source": [
    "In this piece of code, we are using the built-in raw_input functon that Python has. What raw_input lets us do is print out text to the screen, read in text-input from the keyboard, and save the response in a variable (in this case, the variable is called choice). For example, if I want to make a python program that lets me ask for a users age to determine if they can enter a club or not, I could make the folllowing program! (Click on the code block below and hit shift-enter)"
   ]
  },
  {
   "cell_type": "code",
   "execution_count": null,
   "metadata": {},
   "outputs": [],
   "source": [
    "age = int(raw_input(\"what is your age?\"))\n",
    "if age <= 21:\n",
    "    print \"Sorry, you can't enter the club\"\n",
    "else:\n",
    "    print \"Come on in!\"\n",
    "        "
   ]
  },
  {
   "cell_type": "markdown",
   "metadata": {},
   "source": [
    "Notice how we use <= to represent less than or equal to (age is less than or equal to 21)"
   ]
  },
  {
   "cell_type": "markdown",
   "metadata": {},
   "source": [
    "Question: What happens if you type 5"
   ]
  },
  {
   "cell_type": "markdown",
   "metadata": {},
   "source": [
    "Question: What happens if you type 28?"
   ]
  },
  {
   "cell_type": "markdown",
   "metadata": {},
   "source": [
    "Question: How would you make it so that the age restriction is 18 instead of 21? (HINT: You only need to change one line). Copy the code above, paste it into the code block below, and change the necessary part to make it only let 18 and higher in!"
   ]
  },
  {
   "cell_type": "code",
   "execution_count": null,
   "metadata": {},
   "outputs": [],
   "source": [
    "#CODE GOES HERE"
   ]
  },
  {
   "cell_type": "markdown",
   "metadata": {},
   "source": [
    "Question: How would you make it so that if you are old enough to come in, it says 'Welcome to the club!' instead of 'Come on in!'. Copy the code above, and make the necessary changes"
   ]
  },
  {
   "cell_type": "code",
   "execution_count": null,
   "metadata": {},
   "outputs": [],
   "source": [
    "#CODE GOES HERE"
   ]
  },
  {
   "cell_type": "markdown",
   "metadata": {},
   "source": [
    "Now that we understand how raw_input works, we can use it to tell the user the current paragraph on the page, and then get the action they want to take by having them type it in. For example, run the following code block (shift+enter) to see how to tell the user about a room, and ask for their input, and save it in the variable choice. (This is line 2 of start_game() code)"
   ]
  },
  {
   "cell_type": "code",
   "execution_count": null,
   "metadata": {},
   "outputs": [],
   "source": [
    "choice = raw_input(\"You are in a hallway with a left and right door. Which door do you choose?\")"
   ]
  },
  {
   "cell_type": "markdown",
   "metadata": {},
   "source": [
    "Now that we know how to tell the user the page information and save their response, we need to do something based on the input. Python lets use do this with something called an if-elif-else statement (if statement for short), or a conditional block. An if-statement lets us decide to run different pieces of code depending on certain conditions. For example, we used an if-statement in our age program to tell the user if they were allowed to enter the club or not."
   ]
  },
  {
   "cell_type": "code",
   "execution_count": null,
   "metadata": {},
   "outputs": [],
   "source": [
    "age = int(raw_input(\"what is your age?\"))\n",
    "if age <= 21:\n",
    "    print \"Sorry, you can't enter the club\"\n",
    "else:\n",
    "    print \"Come on in!\"\n",
    "        "
   ]
  },
  {
   "cell_type": "markdown",
   "metadata": {},
   "source": [
    "The general form of an if-statement is"
   ]
  },
  {
   "cell_type": "code",
   "execution_count": null,
   "metadata": {},
   "outputs": [],
   "source": [
    "if STATEMENT1:\n",
    "    SOME CODE HERE \n",
    "elif STATEMENT2:\n",
    "    OTHER CODE HERE\n",
    "elif STATEMENT3:\n",
    "    MORE CODE HERE \n",
    "else:\n",
    "    ANY CODE HERE"
   ]
  },
  {
   "cell_type": "markdown",
   "metadata": {},
   "source": [
    "If STATEMENT1 is true, then only SOME CODE HERE is done. Otherwise, if STATEMENT2 is true, then OTHER CODE HERE is only done. Otherwise, if STATEMENT3 is true, then MORE CODE HERE is only done. If STATEMENT1, STATEMENT2, and STATEMENT3 are all false, then only ANY CODE here is done. Notice how the order of if statements matter. When writing an if statement, we don't need an else or elif, but we need an if. We can make as many elif as we want, but we can only make one if and else at max. The indents are used to tell us when each if/elif/else statement starts and ends."
   ]
  },
  {
   "cell_type": "markdown",
   "metadata": {},
   "source": [
    "Now we can use if statements to make our code do different things depending on the users input. For example, in my start_game() function, I want to have two actions: \"left\" and \"right\". If the user says left, I want to go to the page/run the function open_left_door(). If the user says right, I want to go the page/run the function open_right_door(). If the user puts in anything else, I'll simply repeat the page again and run start_game(). To do this, I can write the following code (these are lines 3-8 of start_game())."
   ]
  },
  {
   "cell_type": "code",
   "execution_count": null,
   "metadata": {},
   "outputs": [],
   "source": [
    "if choice == \"left\":\n",
    "    open_left_door()\n",
    "elif choice == \"right\":\n",
    "    open_right_door()\n",
    "else:\n",
    "    start_game()"
   ]
  },
  {
   "cell_type": "markdown",
   "metadata": {},
   "source": [
    "Notice here how we use == as a way to compare if two things are equal to each other. If a is equal to b, then a==b is true. If a does not equal b, then a==b is false. So, if the variable choice has the value \"left\", then choice==\"left\" is true. if the value of choice=\"dog\", then choice==\"left\" is false."
   ]
  },
  {
   "cell_type": "markdown",
   "metadata": {},
   "source": [
    "All together, we get the start_game() function"
   ]
  },
  {
   "cell_type": "code",
   "execution_count": null,
   "metadata": {},
   "outputs": [],
   "source": [
    "def start_game():\n",
    "    choice = raw_input(\"You are in a hallway with a left and right door. Which door do you choose?\")\n",
    "    if choice == \"left\":\n",
    "        open_left_door()\n",
    "    elif choice == \"right\":\n",
    "        open_right_door()\n",
    "    else:\n",
    "        start_game()"
   ]
  },
  {
   "cell_type": "markdown",
   "metadata": {},
   "source": [
    "Now you may be wondering what open_left_door() and open_right_door() are. At this point, we haven't made them (though they exist in the code of the full game above). So what we can do is simple repeat the process of how we just made start_game, but change the name to open_left_door() and open_right_door() respectively, change the raw_input() to be what we want the page to say, and then change the if statements to match what we want our actions to do. The open_left_door() and open_right_door() code are below."
   ]
  },
  {
   "cell_type": "code",
   "execution_count": 11,
   "metadata": {},
   "outputs": [],
   "source": [
    "def open_left_door():\n",
    "    choice = raw_input(\"You enter the left door, leading to a room full of water. There is a door on the otherside. What do you do?\")\n",
    "    if choice == \"turn\":\n",
    "        start_game()\n",
    "    elif choice == \"swim\":\n",
    "        swim_across()\n",
    "    else:\n",
    "        open_left_door()\n",
    "\n",
    "def open_right_door():\n",
    "    choice= raw_input(\"You enter the right door, and find three boxes, each labeled 1,2,3. Which box do you open?\")\n",
    "    if choice == \"1\":\n",
    "        open_1()\n",
    "    elif choice == \"2\":\n",
    "        open_2()\n",
    "    elif choice == \"3\":\n",
    "        open_3()\n",
    "    else:\n",
    "        open_right_door()"
   ]
  },
  {
   "cell_type": "markdown",
   "metadata": {},
   "source": [
    "Notice how in open_left_door, if you do the \"turn\" action, you go back to start_game(). This is essentially a loop, like flipping back to the page you just read. "
   ]
  },
  {
   "cell_type": "markdown",
   "metadata": {},
   "source": [
    "Thus, the general layout of making page is \n",
    "1. (def)ine a function/page name (Make sure the syntax/spelling is correct!)\n",
    "2. use raw_input to tell the user the page information and options, and save in the input in choice\n",
    "3. Use an if statement to check if choice is equal to certain actions\n",
    "4. Depending on which if-elif-else statement is satisfied, go to another page/run a function"
   ]
  },
  {
   "cell_type": "markdown",
   "metadata": {},
   "source": [
    "For swim_across(), open_1(), open_2(), and open_3(), I've written the following function skeletons"
   ]
  },
  {
   "cell_type": "code",
   "execution_count": 13,
   "metadata": {},
   "outputs": [],
   "source": [
    "def swim_across():\n",
    "    print \"...\"\n",
    "\n",
    "def open_1():\n",
    "    print \"...\"\n",
    "\n",
    "def open_2():\n",
    "    print \"...\"\n",
    "\n",
    "def open_3():\n",
    "    print \"...\""
   ]
  },
  {
   "cell_type": "markdown",
   "metadata": {},
   "source": [
    "QUESTION: Can you fill in swim_across(), open_1(), open_2() and open_3() to be complete functions? Fill them in, and tell your instructor afterwards."
   ]
  },
  {
   "cell_type": "code",
   "execution_count": null,
   "metadata": {},
   "outputs": [],
   "source": [
    "#CODE GOES HERE"
   ]
  },
  {
   "cell_type": "markdown",
   "metadata": {},
   "source": [
    "Great job! You're almost ready to start building your own text advenure! There's only one last thing you need to know. You might have noticed that some of the code in this tutorial are indented to be inside a function or if statement, and sometimes it's not indented at all and there is no function (no def in the code-block). The reason why is because if we don't define our code inside a function, it simply gets ran. For example, run the code block below to print out 2+2"
   ]
  },
  {
   "cell_type": "code",
   "execution_count": null,
   "metadata": {},
   "outputs": [],
   "source": [
    "print 2+2"
   ]
  },
  {
   "cell_type": "markdown",
   "metadata": {},
   "source": [
    "Notice how when you hit shift-enter, the number 4 comes out. Now, I've defined a function called add2and2, that has the same code inside"
   ]
  },
  {
   "cell_type": "code",
   "execution_count": 16,
   "metadata": {},
   "outputs": [],
   "source": [
    "def add2and2():\n",
    "    print 2+2"
   ]
  },
  {
   "cell_type": "markdown",
   "metadata": {},
   "source": [
    "When you do shift-enter, no 4 gets printed. This is because we've defined the function, but haven't ran it. Functions do not get ran when they are made, only when they are called. We can call the function by simply calling its name"
   ]
  },
  {
   "cell_type": "code",
   "execution_count": null,
   "metadata": {},
   "outputs": [],
   "source": [
    "add2and2()"
   ]
  },
  {
   "cell_type": "markdown",
   "metadata": {},
   "source": [
    "When we run shift-enter on the code block above, we get the number 4. Defining functions is useful because if we want to use the same code over and over again, it can be tedious to write it over and over again. With functions, we can just call the name to make it do the same code again, with one line."
   ]
  },
  {
   "cell_type": "markdown",
   "metadata": {},
   "source": [
    "For our text adventure code, we use functions to define each of our pages. The indented code in each function defintion seperates each page code. Right above question 5 in this tutorial, all of our page functions are defined and ready to go. However, since we've defined all of our pages, we need to run one of them to start the game! Because start_game() is the name of the function that represents the first page, we can simply call the function after we've defined all of our pages. Thus, in the completed game code, we define all of the functions, and then call start_game() so that when you run the code-block, the game begins. Without calling start_game() at the bottom, all of our functions would be defined, but nothing would happen. (Remember that start_game() is just an arbitrary name for the function that represents the first page. We could have named it in_hallway() or anything else, as long as it doesn't overlap in name with another function)."
   ]
  },
  {
   "cell_type": "markdown",
   "metadata": {},
   "source": [
    "Now that you understand how to make a text adventure, why don't you try making your own?! In the code block below, start writing your own text adventure! It  helps to first take a sheet of paper and draw out what you want your story to be like, and then to define each of the functions, starting from the start of the story. Good luck! When you're done with your text adventure, tell your instructor! "
   ]
  },
  {
   "cell_type": "code",
   "execution_count": 16,
   "metadata": {},
   "outputs": [],
   "source": [
    "#CODE GOES HERE"
   ]
  },
  {
   "cell_type": "markdown",
   "metadata": {},
   "source": [
    "# EXTRA LESSON (OPTIONAL)"
   ]
  },
  {
   "cell_type": "markdown",
   "metadata": {},
   "source": [
    "We can use functions to help us do other complicated things over and over again, like math! For example, the distance between two points (x1,y1) and (x2,y2) can be calculated via forumla derived from a relationship about triangles with right angles"
   ]
  },
  {
   "cell_type": "markdown",
   "metadata": {},
   "source": [
    "<img src=\"./py.gif\">"
   ]
  },
  {
   "cell_type": "markdown",
   "metadata": {},
   "source": [
    "The equation for d is a bit lengthy, so if we wanted to calculate the distance between the points (0,0) and (0,5), we would write the code"
   ]
  },
  {
   "cell_type": "code",
   "execution_count": 10,
   "metadata": {},
   "outputs": [
    {
     "data": {
      "text/plain": [
       "5.0"
      ]
     },
     "execution_count": 10,
     "metadata": {},
     "output_type": "execute_result"
    }
   ],
   "source": [
    "import math\n",
    "d = math.sqrt(((0-0)**2) + (5-0)**2)\n",
    "d"
   ]
  },
  {
   "cell_type": "markdown",
   "metadata": {},
   "source": [
    "We get 5, which makes sense since (0,5) is just 5 points above the origin on a grid. Notice how ** lets us square things, and math.sqrt lets us take the square root of values.\n"
   ]
  },
  {
   "cell_type": "markdown",
   "metadata": {},
   "source": [
    "Now let's say I want to find the distance between all of these points"
   ]
  },
  {
   "cell_type": "markdown",
   "metadata": {},
   "source": [
    "(0,0) and (0,7)"
   ]
  },
  {
   "cell_type": "markdown",
   "metadata": {},
   "source": [
    "(0,0) and (0,-7)"
   ]
  },
  {
   "cell_type": "markdown",
   "metadata": {},
   "source": [
    "(0,0) and (-7,0)"
   ]
  },
  {
   "cell_type": "markdown",
   "metadata": {},
   "source": [
    "(0,0) and (7,0)"
   ]
  },
  {
   "cell_type": "markdown",
   "metadata": {},
   "source": [
    "(2,5) and (1,5)"
   ]
  },
  {
   "cell_type": "markdown",
   "metadata": {},
   "source": [
    "(9,1) and (4,15)"
   ]
  },
  {
   "cell_type": "markdown",
   "metadata": {},
   "source": [
    "(10,-4) and (-7,-6)"
   ]
  },
  {
   "cell_type": "markdown",
   "metadata": {},
   "source": [
    "Writing out the distance forumla (or even copying it out) over and over again for each of these instances can be tedious. Rather than copying the forumla over and over again, we can define a function to calculate the distance between two points given their  values, and return their distance. For example,"
   ]
  },
  {
   "cell_type": "code",
   "execution_count": null,
   "metadata": {},
   "outputs": [],
   "source": [
    "import math\n",
    "def distance_between_points(x1,y1,x2,y2):\n",
    "    d = math.sqrt(((x1-x2)**2) + (y1-y2)**2)\n",
    "    return d\n",
    "\n",
    "print distance_between_points(0,0,0,7)\n"
   ]
  },
  {
   "cell_type": "markdown",
   "metadata": {},
   "source": [
    "Question: Use the new distance_between_points function to calculate the distance between the points above"
   ]
  },
  {
   "cell_type": "markdown",
   "metadata": {},
   "source": [
    "Questions: can you make a function to calculate the mid-point between two points? Do so, and calculate the mid-point for each of the points above. "
   ]
  },
  {
   "cell_type": "markdown",
   "metadata": {},
   "source": [
    "<img src=\"./mid.gif\">"
   ]
  },
  {
   "cell_type": "code",
   "execution_count": 2,
   "metadata": {},
   "outputs": [],
   "source": [
    "#CODE GOES HERE"
   ]
  }
 ],
 "metadata": {
  "kernelspec": {
   "display_name": "Python 2",
   "language": "python",
   "name": "python2"
  },
  "language_info": {
   "codemirror_mode": {
    "name": "ipython",
    "version": 2
   },
   "file_extension": ".py",
   "mimetype": "text/x-python",
   "name": "python",
   "nbconvert_exporter": "python",
   "pygments_lexer": "ipython2",
   "version": "2.7.14"
  }
 },
 "nbformat": 4,
 "nbformat_minor": 2
}
